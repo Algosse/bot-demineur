{
 "cells": [
  {
   "cell_type": "code",
   "execution_count": 1,
   "metadata": {},
   "outputs": [
    {
     "name": "stderr",
     "output_type": "stream",
     "text": [
      "C:\\Users\\Shadow\\AppData\\Local\\Programs\\Python\\Python39\\lib\\site-packages\\torchvision\\io\\image.py:13: UserWarning: Failed to load image Python extension: Could not find module 'C:\\Users\\Shadow\\AppData\\Local\\Programs\\Python\\Python39\\Lib\\site-packages\\torchvision\\image.pyd' (or one of its dependencies). Try using the full path with constructor syntax.\n",
      "  warn(f\"Failed to load image Python extension: {e}\")\n"
     ]
    }
   ],
   "source": [
    "from model import BotDemineur\n",
    "from utils import Transition, ReplayMemory\n",
    "from env import DemineurInterface\n",
    "import torch\n",
    "import torch.optim as optim\n",
    "import torch.nn as nn\n",
    "import random\n",
    "import math\n",
    "\n",
    "import pyautogui\n",
    "\n",
    "import time\n",
    "import datetime"
   ]
  },
  {
   "cell_type": "code",
   "execution_count": 2,
   "metadata": {},
   "outputs": [
    {
     "name": "stdout",
     "output_type": "stream",
     "text": [
      "cpu\n"
     ]
    }
   ],
   "source": [
    "device = torch.device(\"cuda\" if torch.cuda.is_available() else \"cpu\")\n",
    "print(device)\n",
    "rows = 9\n",
    "cols = 9\n",
    "env = DemineurInterface(rows, cols)"
   ]
  },
  {
   "cell_type": "code",
   "execution_count": 3,
   "metadata": {},
   "outputs": [],
   "source": [
    "BATCH_SIZE = 128\n",
    "GAMMA = 0.999\n",
    "EPS_START = 0.60\n",
    "\n",
    "\n",
    "EPS_END = 0.05\n",
    "EPS_DECAY = 30000\n",
    "TARGET_UPDATE = 30"
   ]
  },
  {
   "cell_type": "code",
   "execution_count": 4,
   "metadata": {},
   "outputs": [],
   "source": [
    "# Get number of actions from gym action space\n",
    "\n",
    "n_actions = env.action_space_nb\n",
    "\n",
    "policy_net = BotDemineur(env.grid.rows, env.grid.cols, n_actions).to(device)\n",
    "target_net = BotDemineur(env.grid.rows, env.grid.cols, n_actions).to(device)\n",
    "\n",
    "policy_net.load_state_dict(torch.load(\"weights/9-9-4400.pt\"))\n",
    "target_net.load_state_dict(policy_net.state_dict())\n",
    "\n",
    "target_net.eval()\n",
    "\n",
    "optimizer = optim.RMSprop(policy_net.parameters())\n",
    "memory = ReplayMemory(10000)\n",
    "\n",
    "env.reset()\n",
    "steps_done = 0"
   ]
  },
  {
   "cell_type": "code",
   "execution_count": 5,
   "metadata": {},
   "outputs": [],
   "source": [
    "def select_action(state):\n",
    "    \"\"\" \n",
    "        Select action to use according to the state\n",
    "\n",
    "        state: np.array, grid of the game\n",
    "    \"\"\"\n",
    "\n",
    "    \n",
    "    global steps_done\n",
    "    \n",
    "    sample = random.random()\n",
    "     \n",
    "    eps_threshold = EPS_END + (EPS_START - EPS_END) * math.exp(-1. * steps_done / EPS_DECAY)\n",
    "    steps_done += 1\n",
    "    \n",
    "    if sample > eps_threshold:\n",
    "        #print(\"policy action\")\n",
    "        with torch.no_grad():\n",
    "            return policy_net(state).max(1)[1].view(1, 1)\n",
    "\n",
    "            \n",
    "    \n",
    "    else:\n",
    "        #print(\"random action\")\n",
    "        return torch.tensor([[random.randrange(n_actions)]], device=device, dtype=torch.long)\n",
    "\n",
    "    "
   ]
  },
  {
   "cell_type": "code",
   "execution_count": 6,
   "metadata": {},
   "outputs": [],
   "source": [
    "def optimize_model():\n",
    "    \n",
    "    if len(memory) < BATCH_SIZE:\n",
    "        return\n",
    "\n",
    "    transitions = memory.sample(BATCH_SIZE)\n",
    "    # Transpose the batch (see https://stackoverflow.com/a/19343/3343043 for\n",
    "    # detailed explanation). This converts batch-array of Transitions\n",
    "    # to Transition of batch-arrays.\n",
    "    batch = Transition(*zip(*transitions))\n",
    "\n",
    "    # Compute a mask of non-final states and concatenate the batch elements\n",
    "    # (a final state would've been the one after which simulation ended)\n",
    "    non_final_mask = torch.tensor(tuple(map(lambda s: s is not None,\n",
    "                                          batch.next_state)), device=device, dtype=torch.bool)\n",
    "    non_final_next_states = torch.cat([s for s in batch.next_state\n",
    "                                                if s is not None])\n",
    "    state_batch = torch.cat(batch.state)\n",
    "    action_batch = torch.cat(batch.action)\n",
    "    reward_batch = torch.cat(batch.reward)\n",
    "\n",
    "    # Compute Q(s_t, a) - the model computes Q(s_t), then we select the\n",
    "    # columns of actions taken. These are the actions which would've been taken\n",
    "    # for each batch state according to policy_net\n",
    "    state_action_values = policy_net(state_batch).gather(1, action_batch)\n",
    "\n",
    "    # Compute V(s_{t+1}) for all next states.\n",
    "    # Expected values of actions for non_final_next_states are computed based\n",
    "    # on the \"older\" target_net; selecting their best reward with max(1)[0].\n",
    "    # This is merged based on the mask, such that we'll have either the expected\n",
    "    # state value or 0 in case the state was final.\n",
    "    next_state_values = torch.zeros(BATCH_SIZE, device=device)\n",
    "    next_state_values[non_final_mask] = target_net(non_final_next_states).max(1)[0].detach()\n",
    "    # Compute the expected Q values\n",
    "    expected_state_action_values = (next_state_values * GAMMA) + reward_batch\n",
    "\n",
    "    # Compute Huber lossqaaq\n",
    "    criterion = nn.SmoothL1Loss()\n",
    "    loss = criterion(state_action_values, expected_state_action_values.unsqueeze(1))\n",
    "\n",
    "    # Optimize the model\n",
    "    optimizer.zero_grad()\n",
    "    loss.backward()\n",
    "    for param in policy_net.parameters():\n",
    "        param.grad.data.clamp_(-1, 1)\n",
    "    optimizer.step()\n",
    "    "
   ]
  },
  {
   "cell_type": "code",
   "execution_count": 10,
   "metadata": {},
   "outputs": [
    {
     "name": "stdout",
     "output_type": "stream",
     "text": [
      "start\n",
      "0:02:21.307018 19 0 0.08579774651414526\n",
      "0:04:38.009496 39 0 0.08448823592568565\n",
      "0:07:44.912497 59 0 0.08276688095289735\n",
      "0:10:38.461503 79 0 0.08128540239368424\n",
      "0:14:06.374999 99 0 0.07957072775707692\n",
      "0:16:38.662997 119 0 0.07838663052675422\n",
      "0:19:16.723496 139 0 0.07720819672874352\n",
      "0:22:43.395000 159 0 0.0756938486615121\n",
      "0:26:05.780499 179 0 0.07432452121138566\n",
      "0:30:00.050501 199 0 0.07281500145667279\n",
      "0:33:22.710496 219 0 0.07162070913355029\n",
      "0:36:49.138496 239 0 0.07044595257675125\n",
      "0:39:46.667497 259 0 0.06948253217519876\n",
      "0:42:37.710524 279 0 0.06859981457456119\n",
      "0:46:49.219995 299 0 0.06737591314005456\n",
      "0:51:32.122499 319 0 0.06607478044008583\n",
      "0:54:24.802018 339 0 0.06535976781754223\n",
      "0:57:48.740519 359 0 0.06453488484763101\n"
     ]
    },
    {
     "ename": "FailSafeException",
     "evalue": "PyAutoGUI fail-safe triggered from mouse moving to a corner of the screen. To disable this fail-safe, set pyautogui.FAILSAFE to False. DISABLING FAIL-SAFE IS NOT RECOMMENDED.",
     "output_type": "error",
     "traceback": [
      "\u001b[1;31m---------------------------------------------------------------------------\u001b[0m",
      "\u001b[1;31mFailSafeException\u001b[0m                         Traceback (most recent call last)",
      "\u001b[1;32mc:\\Users\\Shadow\\Documents\\Informatique\\bot-demineur\\train.ipynb Cell 7'\u001b[0m in \u001b[0;36m<cell line: 13>\u001b[1;34m()\u001b[0m\n\u001b[0;32m     <a href='vscode-notebook-cell:/c%3A/Users/Shadow/Documents/Informatique/bot-demineur/train.ipynb#ch0000006?line=20'>21</a>\u001b[0m \u001b[39mwhile\u001b[39;00m \u001b[39mnot\u001b[39;00m done:\n\u001b[0;32m     <a href='vscode-notebook-cell:/c%3A/Users/Shadow/Documents/Informatique/bot-demineur/train.ipynb#ch0000006?line=22'>23</a>\u001b[0m     action \u001b[39m=\u001b[39m select_action(state)\n\u001b[1;32m---> <a href='vscode-notebook-cell:/c%3A/Users/Shadow/Documents/Informatique/bot-demineur/train.ipynb#ch0000006?line=23'>24</a>\u001b[0m     reward, done \u001b[39m=\u001b[39m env\u001b[39m.\u001b[39;49mstep(action\u001b[39m.\u001b[39;49mitem(), steps_done)\n\u001b[0;32m     <a href='vscode-notebook-cell:/c%3A/Users/Shadow/Documents/Informatique/bot-demineur/train.ipynb#ch0000006?line=25'>26</a>\u001b[0m     \u001b[39m#print(\"Reward: \", reward, 'Done: ', done)\u001b[39;00m\n\u001b[0;32m     <a href='vscode-notebook-cell:/c%3A/Users/Shadow/Documents/Informatique/bot-demineur/train.ipynb#ch0000006?line=27'>28</a>\u001b[0m     reward \u001b[39m=\u001b[39m torch\u001b[39m.\u001b[39mtensor([reward], device\u001b[39m=\u001b[39mdevice)\n",
      "File \u001b[1;32mc:\\Users\\Shadow\\Documents\\Informatique\\bot-demineur\\env.py:59\u001b[0m, in \u001b[0;36mDemineurInterface.step\u001b[1;34m(self, index, cpt)\u001b[0m\n\u001b[0;32m     <a href='file:///c%3A/Users/Shadow/Documents/Informatique/bot-demineur/env.py?line=54'>55</a>\u001b[0m x, y \u001b[39m=\u001b[39m \u001b[39mself\u001b[39m\u001b[39m.\u001b[39mgrid\u001b[39m.\u001b[39mclick_pos[i,j]\n\u001b[0;32m     <a href='file:///c%3A/Users/Shadow/Documents/Informatique/bot-demineur/env.py?line=56'>57</a>\u001b[0m \u001b[39mif\u001b[39;00m \u001b[39mnot\u001b[39;00m \u001b[39mself\u001b[39m\u001b[39m.\u001b[39mgrid\u001b[39m.\u001b[39mis_free(i,j):\n\u001b[0;32m     <a href='file:///c%3A/Users/Shadow/Documents/Informatique/bot-demineur/env.py?line=57'>58</a>\u001b[0m     \u001b[39m#print(f\"Case {i},{j} is used\")\u001b[39;00m\n\u001b[1;32m---> <a href='file:///c%3A/Users/Shadow/Documents/Informatique/bot-demineur/env.py?line=58'>59</a>\u001b[0m     pyautogui\u001b[39m.\u001b[39;49mmoveTo(x, y)\n\u001b[0;32m     <a href='file:///c%3A/Users/Shadow/Documents/Informatique/bot-demineur/env.py?line=59'>60</a>\u001b[0m     \u001b[39mreturn\u001b[39;00m \u001b[39m0\u001b[39m, \u001b[39mFalse\u001b[39;00m \u001b[39m# Reward, Done\u001b[39;00m\n\u001b[0;32m     <a href='file:///c%3A/Users/Shadow/Documents/Informatique/bot-demineur/env.py?line=61'>62</a>\u001b[0m isolated \u001b[39m=\u001b[39m \u001b[39mself\u001b[39m\u001b[39m.\u001b[39mgrid\u001b[39m.\u001b[39mis_isolated(i,j)\n",
      "File \u001b[1;32m~\\AppData\\Local\\Programs\\Python\\Python39\\lib\\site-packages\\pyautogui\\__init__.py:597\u001b[0m, in \u001b[0;36m_genericPyAutoGUIChecks.<locals>.wrapper\u001b[1;34m(*args, **kwargs)\u001b[0m\n\u001b[0;32m    <a href='file:///c%3A/Users/Shadow/AppData/Local/Programs/Python/Python39/lib/site-packages/pyautogui/__init__.py?line=594'>595</a>\u001b[0m \u001b[39m@functools\u001b[39m\u001b[39m.\u001b[39mwraps(wrappedFunction)\n\u001b[0;32m    <a href='file:///c%3A/Users/Shadow/AppData/Local/Programs/Python/Python39/lib/site-packages/pyautogui/__init__.py?line=595'>596</a>\u001b[0m \u001b[39mdef\u001b[39;00m \u001b[39mwrapper\u001b[39m(\u001b[39m*\u001b[39margs, \u001b[39m*\u001b[39m\u001b[39m*\u001b[39mkwargs):\n\u001b[1;32m--> <a href='file:///c%3A/Users/Shadow/AppData/Local/Programs/Python/Python39/lib/site-packages/pyautogui/__init__.py?line=596'>597</a>\u001b[0m     failSafeCheck()\n\u001b[0;32m    <a href='file:///c%3A/Users/Shadow/AppData/Local/Programs/Python/Python39/lib/site-packages/pyautogui/__init__.py?line=597'>598</a>\u001b[0m     returnVal \u001b[39m=\u001b[39m wrappedFunction(\u001b[39m*\u001b[39margs, \u001b[39m*\u001b[39m\u001b[39m*\u001b[39mkwargs)\n\u001b[0;32m    <a href='file:///c%3A/Users/Shadow/AppData/Local/Programs/Python/Python39/lib/site-packages/pyautogui/__init__.py?line=598'>599</a>\u001b[0m     _handlePause(kwargs\u001b[39m.\u001b[39mget(\u001b[39m\"\u001b[39m\u001b[39m_pause\u001b[39m\u001b[39m\"\u001b[39m, \u001b[39mTrue\u001b[39;00m))\n",
      "File \u001b[1;32m~\\AppData\\Local\\Programs\\Python\\Python39\\lib\\site-packages\\pyautogui\\__init__.py:1722\u001b[0m, in \u001b[0;36mfailSafeCheck\u001b[1;34m()\u001b[0m\n\u001b[0;32m   <a href='file:///c%3A/Users/Shadow/AppData/Local/Programs/Python/Python39/lib/site-packages/pyautogui/__init__.py?line=1719'>1720</a>\u001b[0m \u001b[39mdef\u001b[39;00m \u001b[39mfailSafeCheck\u001b[39m():\n\u001b[0;32m   <a href='file:///c%3A/Users/Shadow/AppData/Local/Programs/Python/Python39/lib/site-packages/pyautogui/__init__.py?line=1720'>1721</a>\u001b[0m     \u001b[39mif\u001b[39;00m FAILSAFE \u001b[39mand\u001b[39;00m \u001b[39mtuple\u001b[39m(position()) \u001b[39min\u001b[39;00m FAILSAFE_POINTS:\n\u001b[1;32m-> <a href='file:///c%3A/Users/Shadow/AppData/Local/Programs/Python/Python39/lib/site-packages/pyautogui/__init__.py?line=1721'>1722</a>\u001b[0m         \u001b[39mraise\u001b[39;00m FailSafeException(\n\u001b[0;32m   <a href='file:///c%3A/Users/Shadow/AppData/Local/Programs/Python/Python39/lib/site-packages/pyautogui/__init__.py?line=1722'>1723</a>\u001b[0m             \u001b[39m\"\u001b[39m\u001b[39mPyAutoGUI fail-safe triggered from mouse moving to a corner of the screen. To disable this fail-safe, set pyautogui.FAILSAFE to False. DISABLING FAIL-SAFE IS NOT RECOMMENDED.\u001b[39m\u001b[39m\"\u001b[39m\n\u001b[0;32m   <a href='file:///c%3A/Users/Shadow/AppData/Local/Programs/Python/Python39/lib/site-packages/pyautogui/__init__.py?line=1723'>1724</a>\u001b[0m         )\n",
      "\u001b[1;31mFailSafeException\u001b[0m: PyAutoGUI fail-safe triggered from mouse moving to a corner of the screen. To disable this fail-safe, set pyautogui.FAILSAFE to False. DISABLING FAIL-SAFE IS NOT RECOMMENDED."
     ]
    }
   ],
   "source": [
    "import keyboard\n",
    "\n",
    "num_episodes = 20000\n",
    "\n",
    "nb_victories = []\n",
    "\n",
    "pyautogui.PAUSE = 0.01\n",
    "\n",
    "print(\"start\")\n",
    "\n",
    "ref = time.time()\n",
    "\n",
    "for i_episode in range(0, num_episodes):\n",
    "    \n",
    "    env.reset()\n",
    "    state = env.get_state()\n",
    "    previous_action = None\n",
    "    \n",
    "    done = False\n",
    "    \n",
    "    while not done:\n",
    "\n",
    "        action = select_action(state)\n",
    "        reward, done = env.step(action.item(), steps_done)\n",
    "        \n",
    "        #print(\"Reward: \", reward, 'Done: ', done)\n",
    "        \n",
    "        reward = torch.tensor([reward], device=device)\n",
    "\n",
    "        if not done:\n",
    "            next_state = env.get_state()\n",
    "        else:\n",
    "            next_state = None\n",
    "\n",
    "        if action != previous_action:\n",
    "            memory.push(state, action, next_state, reward)\n",
    "        \n",
    "        state = next_state\n",
    "        previous_action = action\n",
    "        \n",
    "        optimize_model()\n",
    "        \n",
    "        if keyboard.is_pressed('q'):\n",
    "            done = True\n",
    "\n",
    "    if (i_episode + 1) % TARGET_UPDATE == 0:\n",
    "        target_net.load_state_dict(policy_net.state_dict())\n",
    "\n",
    "        nb_victories.append(env.victories)\n",
    "\n",
    "    if (i_episode + 1) % 200 == 0:\n",
    "        torch.save(policy_net.state_dict(), \"weights/{}-{}-{}.pt\".format(rows, cols, i_episode+1 + 7200))\n",
    "\n",
    "    if (i_episode + 1) % 20 == 0:\n",
    "\n",
    "\n",
    "        eps_threshold = EPS_END + (EPS_START - EPS_END) * math.exp(-1. * steps_done / EPS_DECAY)\n",
    "        print(datetime.timedelta(seconds = time.time() - ref), i_episode, env.victories, eps_threshold)\n"
   ]
  },
  {
   "cell_type": "code",
   "execution_count": null,
   "metadata": {},
   "outputs": [],
   "source": [
    "eps_threshold = EPS_END + (EPS_START - EPS_END) * math.exp(-1. * steps_done / EPS_DECAY)\n",
    "print(eps_threshold)\n",
    "\n",
    "''' policy_net = policy_net.to(torch.float64)\n",
    "policy_net(state) '''"
   ]
  },
  {
   "cell_type": "code",
   "execution_count": 8,
   "metadata": {},
   "outputs": [
    {
     "name": "stdout",
     "output_type": "stream",
     "text": [
      "10000\n"
     ]
    },
    {
     "data": {
      "text/plain": [
       "78333"
      ]
     },
     "execution_count": 8,
     "metadata": {},
     "output_type": "execute_result"
    }
   ],
   "source": [
    "print(len(memory))\n",
    "steps_done\n",
    "\n"
   ]
  },
  {
   "cell_type": "code",
   "execution_count": null,
   "metadata": {},
   "outputs": [],
   "source": [
    "img = env.grab_image()\n",
    "env.grid.is_done(img)\n",
    "\n",
    "env.step(0)\n",
    "\n",
    "\n",
    "env.victories"
   ]
  },
  {
   "cell_type": "code",
   "execution_count": null,
   "metadata": {},
   "outputs": [],
   "source": []
  },
  {
   "cell_type": "code",
   "execution_count": null,
   "metadata": {},
   "outputs": [],
   "source": [
    "i,j = 0, 0\n",
    "\n",
    "index = i* env.grid.cols + j\n",
    "env.step(index)\n",
    "env.step(index)"
   ]
  },
  {
   "cell_type": "code",
   "execution_count": null,
   "metadata": {},
   "outputs": [],
   "source": [
    "env.victories\n",
    "\n",
    "\n",
    "\n",
    "img = env.grab_image()\n",
    "env.grid.extract_from_image(img)\n",
    "print(env.grid.grid)\n",
    "print(env.grid.is_done(img))"
   ]
  },
  {
   "cell_type": "code",
   "execution_count": null,
   "metadata": {},
   "outputs": [],
   "source": [
    "time.sleep(2)\n",
    "env.reset()"
   ]
  }
 ],
 "metadata": {
  "interpreter": {
   "hash": "10a8eb115b09bdbd6c7631d731335dfcaee8f0adfd9a993fb551a7cf535d459a"
  },
  "kernelspec": {
   "display_name": "Python 3.7.8 64-bit",
   "language": "python",
   "name": "python3"
  },
  "language_info": {
   "codemirror_mode": {
    "name": "ipython",
    "version": 3
   },
   "file_extension": ".py",
   "mimetype": "text/x-python",
   "name": "python",
   "nbconvert_exporter": "python",
   "pygments_lexer": "ipython3",
   "version": "3.9.12"
  },
  "orig_nbformat": 4
 },
 "nbformat": 4,
 "nbformat_minor": 2
}
