{
 "cells": [
  {
   "cell_type": "code",
   "execution_count": 30,
   "metadata": {},
   "outputs": [],
   "source": [
    "from model import BotDemineur\n",
    "from env import DemineurInterface\n",
    "import torch\n",
    "\n",
    "from captum.attr import LRP\n",
    "\n",
    "import matplotlib\n",
    "import matplotlib.pyplot as plt\n",
    "%matplotlib inline\n"
   ]
  },
  {
   "cell_type": "code",
   "execution_count": 12,
   "metadata": {},
   "outputs": [
    {
     "name": "stdout",
     "output_type": "stream",
     "text": [
      "cpu\n"
     ]
    }
   ],
   "source": [
    "device = torch.device(\"cuda\" if torch.cuda.is_available() else \"cpu\")\n",
    "print(device)\n",
    "rows = 9\n",
    "cols = 9\n",
    "env = DemineurInterface(rows, cols)"
   ]
  },
  {
   "cell_type": "code",
   "execution_count": 16,
   "metadata": {},
   "outputs": [
    {
     "data": {
      "text/plain": [
       "<All keys matched successfully>"
      ]
     },
     "execution_count": 16,
     "metadata": {},
     "output_type": "execute_result"
    }
   ],
   "source": [
    "n_actions = env.action_space_nb\n",
    "\n",
    "model = BotDemineur(rows, cols, n_actions).to(device)\n",
    "state_dict = torch.load('weights/9-9-3200.pt')\n",
    "model.load_state_dict(state_dict)"
   ]
  },
  {
   "cell_type": "code",
   "execution_count": 56,
   "metadata": {},
   "outputs": [
    {
     "name": "stdout",
     "output_type": "stream",
     "text": [
      "5 3\n"
     ]
    }
   ],
   "source": [
    "state = env.get_state()\n",
    "\n",
    "\n",
    "lrp = LRP(model)\n",
    "\n",
    "output = model(state)\n",
    "target = output.max(1)[1].item()\n",
    "\n",
    "\n",
    "i,j = target // env.grid.cols, target % env.grid.cols\n",
    "print(i, j)\n",
    "\n",
    "\n",
    "attribution = lrp.attribute(state, target=target)"
   ]
  },
  {
   "cell_type": "code",
   "execution_count": 57,
   "metadata": {},
   "outputs": [
    {
     "name": "stdout",
     "output_type": "stream",
     "text": [
      "tensor([[[[4.4899e+01, 7.2642e+02, 8.1056e+02, 1.9487e+02, 1.6151e+03,\n",
      "           2.6342e+02, 9.2553e+02, 1.1536e+02, 2.1061e+02],\n",
      "          [2.5694e+02, 5.8818e+02, 7.1107e+02, 7.6879e+02, 8.1931e+02,\n",
      "           2.9464e+02, 3.3883e+02, 1.2919e+03, 1.1509e+03],\n",
      "          [8.2324e+00, 1.9579e+02, 1.3162e+02, 3.2382e+01, 1.1847e+01,\n",
      "           2.0541e+02, 6.0314e+02, 8.3431e+02, 1.6153e+02],\n",
      "          [7.2597e+01, 5.6244e+02, 2.7403e+02, 3.7985e+02, 3.1810e+02,\n",
      "           5.0458e+02, 8.0781e+01, 3.4756e+02, 1.7039e+02],\n",
      "          [2.8244e+02, 4.8847e+02, 1.0873e+03, 4.1850e+02, 1.8013e+03,\n",
      "           4.4046e+02, 5.1328e+02, 6.6378e+02, 4.2461e-01],\n",
      "          [5.7384e+02, 3.6184e+02, 1.0359e+02, 1.1314e+03, 2.5967e+03,\n",
      "           4.6655e+02, 9.9423e+02, 1.2530e+02, 1.7135e+03],\n",
      "          [1.8065e+02, 3.7213e+02, 2.0234e+03, 2.3033e+03, 5.3556e+02,\n",
      "           2.4553e+03, 8.2695e+02, 1.2666e+03, 7.0278e+02],\n",
      "          [9.6067e+01, 1.3863e+03, 1.4987e+02, 6.5052e+02, 1.2249e+02,\n",
      "           4.2870e+02, 1.2800e+03, 2.6618e+02, 1.6886e+02],\n",
      "          [2.8057e+02, 1.9176e+02, 3.0700e+02, 8.4067e+02, 7.4354e+02,\n",
      "           2.6355e+02, 3.8349e+01, 1.4630e+02, 8.8022e+01]]]],\n",
      "       grad_fn=<AbsBackward0>)\n"
     ]
    },
    {
     "data": {
      "text/plain": [
       "<matplotlib.colorbar.Colorbar at 0x1f4f1a33a00>"
      ]
     },
     "execution_count": 57,
     "metadata": {},
     "output_type": "execute_result"
    },
    {
     "data": {
      "image/png": "[encoded data removed]",
      "text/plain": [
       "<Figure size 432x288 with 2 Axes>"
      ]
     },
     "metadata": {
      "needs_background": "light"
     },
     "output_type": "display_data"
    }
   ],
   "source": [
    "print(attribution.abs())\n",
    "\n",
    "plt.imshow(attribution.abs().detach().numpy().squeeze())\n",
    "plt.scatter(i,j, color='r')\n",
    "plt.colorbar()"
   ]
  }
 ],
 "metadata": {
  "interpreter": {
   "hash": "fc3f7987bafc44ccb76ae731cf2cba8c8025984d8de06e4fc337b03bd9b7da4e"
  },
  "kernelspec": {
   "display_name": "Python 3.9.12 64-bit",
   "language": "python",
   "name": "python3"
  },
  "language_info": {
   "codemirror_mode": {
    "name": "ipython",
    "version": 3
   },
   "file_extension": ".py",
   "mimetype": "text/x-python",
   "name": "python",
   "nbconvert_exporter": "python",
   "pygments_lexer": "ipython3",
   "version": "3.9.12"
  },
  "orig_nbformat": 4
 },
 "nbformat": 4,
 "nbformat_minor": 2
}
