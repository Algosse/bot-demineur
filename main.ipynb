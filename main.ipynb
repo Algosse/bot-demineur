{
 "cells": [
  {
   "cell_type": "code",
   "execution_count": 1,
   "metadata": {},
   "outputs": [
    {
     "name": "stderr",
     "output_type": "stream",
     "text": [
      "C:\\Users\\Max\\AppData\\Roaming\\Python\\Python37\\site-packages\\ipykernel\\pylab\\config.py:70: DeprecationWarning: InlineBackend._figure_formats_changed is deprecated in traitlets 4.1: use @observe and @unobserve instead.\n",
      "  def _figure_formats_changed(self, name, old, new):\n"
     ]
    }
   ],
   "source": [
    "import logging\n",
    "import sys\n",
    "logging.basicConfig(stream=sys.stdout, level=logging.INFO)\n",
    "\n",
    "from tmrl.custom.utils.window import WindowInterface\n",
    "\n",
    "import matplotlib\n",
    "import matplotlib.pyplot as plt\n",
    "%matplotlib inline\n",
    "\n",
    "from model import BotDemineur\n",
    "import torch\n",
    "\n",
    "import cv2\n",
    "import pyautogui\n",
    "import numpy as np\n",
    "import os"
   ]
  },
  {
   "cell_type": "code",
   "execution_count": 2,
   "metadata": {},
   "outputs": [
    {
     "name": "stderr",
     "output_type": "stream",
     "text": [
      "C:\\Users\\Max\\AppData\\Roaming\\Python\\Python37\\site-packages\\ipykernel\\ipkernel.py:283: DeprecationWarning: `should_run_async` will not call `transform_cell` automatically in the future. Please pass the result to `transformed_cell` argument and any exception that happen during thetransform in `preprocessing_exc_tuple` in IPython 7.17 and above.\n",
      "  and should_run_async(code)\n"
     ]
    }
   ],
   "source": [
    "wi = WindowInterface(\"Démineur\")\n",
    "wi.move_and_resize(w=500,h=320)"
   ]
  },
  {
   "cell_type": "code",
   "execution_count": 3,
   "metadata": {},
   "outputs": [],
   "source": [
    "class DemineurInterface():\n",
    "    \n",
    "    def __init__(self):\n",
    "        \n",
    "        self.windowInterface = WindowInterface(\"Démineur\")\n",
    "        self.grid = Grid()\n",
    "    \n",
    "    def grab_image(self):\n",
    "        \n",
    "        img = self.windowInterface.screenshot()[:,:,:3]\n",
    "        img = cv2.cvtColor(img, cv2.COLOR_BGR2RGB)\n",
    "        \n",
    "        return img\n",
    "    \n",
    "    def reset(self):\n",
    "        pass\n",
    "    \n",
    "    def get_observations(self):\n",
    "        \n",
    "        img = self.grab_image()\n",
    "        data = self.grid.extract_from_image(img)\n",
    "        \n",
    "        return data        \n",
    "    \n",
    "    def send_control(self, x, y):\n",
    "        pyautogui.click(x, y)\n",
    "        \n",
    "        "
   ]
  },
  {
   "cell_type": "code",
   "execution_count": 4,
   "metadata": {},
   "outputs": [],
   "source": [
    "class Grid():\n",
    "    \n",
    "    def __init__(self, rows=16, cols=30):\n",
    "\n",
    "        self.rows = rows\n",
    "        self.cols = cols\n",
    "        self.case_width = 16\n",
    "        self.case_height = 16\n",
    "        self.first_case_x = 55\n",
    "        self.first_case_y = 12\n",
    "        \n",
    "        self.grid = np.zeros((self.rows, self.cols))\n",
    "        \n",
    "        # Define click position for each case on the grid\n",
    "        self.click_offsets = (101, 13)\n",
    "        \n",
    "        X = np.floor(np.linspace(self.click_offsets[0] + self.case_height // 2, self.click_offsets[0] + self.rows * self.case_height, self.rows))\n",
    "        Y = np.floor(np.linspace(self.click_offsets[1] + self.case_width // 2, self.click_offsets[1] + self.cols * self.case_width, self.cols))\n",
    "\n",
    "        self.click_pos = np.stack(np.meshgrid(Y,X), axis=-1)\n",
    "        \n",
    "        # Load cases templates\n",
    "        self.load_cases()\n",
    "        \n",
    "        \n",
    "    def load_cases(self):\n",
    "        \n",
    "        casesNames = os.listdir(\"images/cases\")\n",
    "        \n",
    "        self.cases_templates = np.zeros((len(casesNames), self.case_width, self.case_height, 3))\n",
    "        self.cases_labels = []\n",
    "        \n",
    "        for i in range(len(casesNames)):\n",
    "            \n",
    "            case = cv2.imread(\"images/cases/\" + casesNames[i])[:,:,:3]\n",
    "            \n",
    "            self.cases_templates[i,...] = case[:,:,::-1]\n",
    "            self.cases_labels.append(casesNames[i].rsplit('_', 1)[0])\n",
    "        \n",
    "        \n",
    "    def extract_from_image(self, img):\n",
    "        \"\"\" Convert the grid on the image into a python object \"\"\"\n",
    "        \n",
    "        for i in range(self.rows):\n",
    "            for j in range(self.cols):\n",
    "                \n",
    "                x = self.first_case_x + i * self.case_height\n",
    "                y = self.first_case_y + j * self.case_width\n",
    "                \n",
    "                case_extract = img[x:x + self.case_height, y:y + self.case_width]\n",
    "\n",
    "                case_extract = np.tile(case_extract[None,...], [len(self.cases_labels), 1, 1, 1])\n",
    "                \n",
    "                diff = np.sum((self.cases_templates - case_extract)**2, axis=(1,2,3))\n",
    "                \n",
    "                self.grid[i,j] = np.argmin(diff)\n",
    "\n",
    "        return self.grid\n",
    "\n",
    "        \n",
    "    "
   ]
  },
  {
   "cell_type": "code",
   "execution_count": 5,
   "metadata": {},
   "outputs": [
    {
     "data": {
      "text/plain": [
       "' grid = Grid()\\n\\nprint(grid.cases_labels)\\n\\ninput = torch.unsqueeze(torch.unsqueeze(torch.Tensor(grid.extract_from_image(img)), 0), 0)\\n\\nmodel = BotDemineur(16,30,14)\\n\\nprint(model(input))\\n\\nplt.imshow(grid.extract_from_image(img)) '"
      ]
     },
     "execution_count": 5,
     "metadata": {},
     "output_type": "execute_result"
    }
   ],
   "source": [
    "\"\"\" grid = Grid()\n",
    "\n",
    "print(grid.cases_labels)\n",
    "\n",
    "input = torch.unsqueeze(torch.unsqueeze(torch.Tensor(grid.extract_from_image(img)), 0), 0)\n",
    "\n",
    "model = BotDemineur(16,30,14)\n",
    "\n",
    "print(model(input))\n",
    "\n",
    "plt.imshow(grid.extract_from_image(img)) \"\"\""
   ]
  },
  {
   "cell_type": "code",
   "execution_count": 6,
   "metadata": {},
   "outputs": [
    {
     "data": {
      "text/plain": [
       "True"
      ]
     },
     "execution_count": 6,
     "metadata": {},
     "output_type": "execute_result"
    },
    {
     "data": {
      "image/png": "[encoded data removed]",
      "text/plain": [
       "<Figure size 432x288 with 1 Axes>"
      ]
     },
     "metadata": {
      "needs_background": "light"
     },
     "output_type": "display_data"
    }
   ],
   "source": [
    "di = DemineurInterface()\n",
    "img = di.grab_image()\n",
    "plt.imshow(img)\n",
    "\n",
    "cv2.imwrite(\"images/grid.jpg\", img[:,:,::-1])\n",
    "# 12,55\n",
    "# 27, 70\n",
    "\n",
    "\n",
    "# 72, 16\n",
    "# 95, 39\n",
    "#cv2.imwrite(\"images/defeat.png\", img[15:41, 71:97][:,:,::-1])\n",
    "#img[15:41, 71:97].shape # 26 x 26\n",
    "\n",
    "# 239, 15 top-left coord for status icon"
   ]
  },
  {
   "cell_type": "code",
   "execution_count": 7,
   "metadata": {},
   "outputs": [
    {
     "name": "stdout",
     "output_type": "stream",
     "text": [
      "(16, 16, 3)\n"
     ]
    },
    {
     "data": {
      "text/plain": [
       "<matplotlib.image.AxesImage at 0x1400b2cfb88>"
      ]
     },
     "execution_count": 7,
     "metadata": {},
     "output_type": "execute_result"
    },
    {
     "data": {
      "image/png": "[encoded data removed]",
      "text/plain": [
       "<Figure size 432x288 with 1 Axes>"
      ]
     },
     "metadata": {
      "needs_background": "light"
     },
     "output_type": "display_data"
    }
   ],
   "source": [
    "i,j = 2,1\n",
    "\n",
    "w,h = 16,16\n",
    "x, y= 55,12\n",
    "\n",
    "case = img[x + i * w: x + (i + 1) * w, y + j * h: y + (j + 1) * h]\n",
    "print(case.shape)\n",
    "\n",
    "plt.imshow(case)\n"
   ]
  },
  {
   "cell_type": "code",
   "execution_count": 8,
   "metadata": {},
   "outputs": [
    {
     "data": {
      "text/plain": [
       "False"
      ]
     },
     "execution_count": 8,
     "metadata": {},
     "output_type": "execute_result"
    }
   ],
   "source": [
    "cv2.imwrite('img/8_case.png', cv2.cvtColor(case, cv2.COLOR_RGB2BGR))"
   ]
  },
  {
   "cell_type": "code",
   "execution_count": 9,
   "metadata": {},
   "outputs": [
    {
     "data": {
      "text/plain": [
       "True"
      ]
     },
     "execution_count": 9,
     "metadata": {},
     "output_type": "execute_result"
    }
   ],
   "source": [
    "from PIL import ImageGrab\n",
    "\n",
    "im = ImageGrab.grab()\n",
    "imArr = np.asarray(im)\n",
    "\n",
    "cv2.imwrite(\"images/test.png\", imArr)"
   ]
  }
 ],
 "metadata": {
  "interpreter": {
   "hash": "10a8eb115b09bdbd6c7631d731335dfcaee8f0adfd9a993fb551a7cf535d459a"
  },
  "kernelspec": {
   "display_name": "Python 3.7.8 64-bit",
   "language": "python",
   "name": "python3"
  },
  "language_info": {
   "codemirror_mode": {
    "name": "ipython",
    "version": 3
   },
   "file_extension": ".py",
   "mimetype": "text/x-python",
   "name": "python",
   "nbconvert_exporter": "python",
   "pygments_lexer": "ipython3",
   "version": "3.7.8"
  },
  "orig_nbformat": 4
 },
 "nbformat": 4,
 "nbformat_minor": 2
}
