{
 "cells": [
  {
   "cell_type": "code",
   "execution_count": null,
   "metadata": {},
   "outputs": [],
   "source": [
    "from model import BotDemineur\n",
    "from env import DemineurInterface\n",
    "import torch\n",
    "\n",
    "import pyautogui\n",
    "import time"
   ]
  },
  {
   "cell_type": "code",
   "execution_count": null,
   "metadata": {},
   "outputs": [],
   "source": [
    "device = torch.device(\"cuda\" if torch.cuda.is_available() else \"cpu\")\n",
    "print(device)\n",
    "rows = 9\n",
    "cols = 9\n",
    "env = DemineurInterface(rows, cols)"
   ]
  },
  {
   "cell_type": "code",
   "execution_count": null,
   "metadata": {},
   "outputs": [],
   "source": [
    "\n",
    "n_actions = env.action_space_nb\n",
    "\n",
    "model = BotDemineur(rows, cols, n_actions).to(device)\n",
    "state_dict = torch.load('weights/9-9-1200.pt')\n",
    "model.load_state_dict(state_dict)\n"
   ]
  },
  {
   "cell_type": "code",
   "execution_count": 7,
   "metadata": {},
   "outputs": [
    {
     "data": {
      "text/plain": [
       "False"
      ]
     },
     "execution_count": 7,
     "metadata": {},
     "output_type": "execute_result"
    }
   ],
   "source": [
    "pyautogui.click(400,100)\n",
    "#env.reset()\n",
    "env.get_state()\n",
    "env.grid.is_isolated(1,1)"
   ]
  },
  {
   "cell_type": "code",
   "execution_count": null,
   "metadata": {},
   "outputs": [],
   "source": [
    "nb_test = 10\n",
    "pyautogui.PAUSE = .5\n",
    "\n",
    "\n",
    "\n",
    "for i in range(nb_test):\n",
    "\n",
    "    time.sleep(2)\n",
    "\n",
    "    env.reset()\n",
    "\n",
    "    reward = 1\n",
    "    done = 0\n",
    "\n",
    "    while reward and not done:\n",
    "\n",
    "        state = env.get_state()\n",
    "        with torch.no_grad():\n",
    "            action = model(state).max(1)[1].view(1, 1)\n",
    "\n",
    "        #print(action.item() // cols, action.item() % cols)\n",
    "        \n",
    "        reward, done = env.step(action.item())"
   ]
  }
 ],
 "metadata": {
  "interpreter": {
   "hash": "fc3f7987bafc44ccb76ae731cf2cba8c8025984d8de06e4fc337b03bd9b7da4e"
  },
  "kernelspec": {
   "display_name": "Python 3.9.12 64-bit",
   "language": "python",
   "name": "python3"
  },
  "language_info": {
   "codemirror_mode": {
    "name": "ipython",
    "version": 3
   },
   "file_extension": ".py",
   "mimetype": "text/x-python",
   "name": "python",
   "nbconvert_exporter": "python",
   "pygments_lexer": "ipython3",
   "version": "3.9.12"
  },
  "orig_nbformat": 4
 },
 "nbformat": 4,
 "nbformat_minor": 2
}
